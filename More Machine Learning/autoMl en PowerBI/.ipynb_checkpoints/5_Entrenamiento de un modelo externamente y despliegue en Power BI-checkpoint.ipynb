{
 "cells": [
  {
   "cell_type": "markdown",
   "metadata": {},
   "source": [
    "# Entrenamiento de un modelo externamente y despliegue en Power BI"
   ]
  },
  {
   "cell_type": "code",
   "execution_count": 3,
   "metadata": {},
   "outputs": [],
   "source": [
    "import pycaret"
   ]
  },
  {
   "cell_type": "markdown",
   "metadata": {},
   "source": [
    "## Entrenar un modelo básico de ML y despliegue"
   ]
  },
  {
   "cell_type": "code",
   "execution_count": 14,
   "metadata": {},
   "outputs": [
    {
     "name": "stdout",
     "output_type": "stream",
     "text": [
      "Transformation Pipeline and Model Succesfully Saved\n"
     ]
    }
   ],
   "source": [
    "# import regression module\n",
    "from pycaret.regression import *\n",
    "\n",
    "from pycaret.datasets import get_data \n",
    "data = get_data('insurance') \n",
    "\n",
    "# init setup\n",
    "reg1 = setup(data=data, target = 'charge', silent = True, html = False,session_id=4)\n",
    "# compare models\n",
    "best_model = compare_models()\n",
    "# finalize best model\n",
    "best = finalize_model(best_model)\n",
    "# save best model\n",
    "save_model(best, 'C:/Users/Leyre/Desktop/automl/best-model-insu')\n",
    "# return the performance metrics df\n",
    "data = pull()"
   ]
  },
  {
   "cell_type": "markdown",
   "metadata": {},
   "source": [
    "## Entrenar un modelo avanzado de ML y despliegue"
   ]
  },
  {
   "cell_type": "code",
   "execution_count": 18,
   "metadata": {},
   "outputs": [
    {
     "name": "stdout",
     "output_type": "stream",
     "text": [
      "Transformation Pipeline and Model Succesfully Saved\n"
     ]
    }
   ],
   "source": [
    "# import regression module\n",
    "from pycaret.regression import *\n",
    "\n",
    "from pycaret.datasets import get_data \n",
    "data = get_data('insurance') \n",
    "\n",
    "# init setup\n",
    "reg1 = setup(data=data, target = 'charge', silent = True, html = False,session_id=4)\n",
    "# compare models\n",
    "top3 = compare_models(n_select = 3)\n",
    "\n",
    "# tune top 5 base models\n",
    "tuned_top3 = [tune_model(i) for i in top3]\n",
    "\n",
    "# Metodos de ensamblado, requieren de mucha capacidad de procesamiento\n",
    "#bagged_top3 = [ensemble_model(i) for i in tuned_top3]\n",
    "#blender = blend_models(estimator_list = top3) \n",
    "\n",
    "# select best model \n",
    "best = automl(optimize = 'R2')\n",
    "\n",
    "# finalize best model\n",
    "best = finalize_model(best)\n",
    "# save best model\n",
    "save_model(best, 'C:/Users/Leyre/Desktop/automl/best-model-insu-adv')\n",
    "# return the performance metrics df\n",
    "data = pull()"
   ]
  },
  {
   "cell_type": "markdown",
   "metadata": {},
   "source": [
    "## Para la carga del modelo desde Power BI"
   ]
  },
  {
   "cell_type": "code",
   "execution_count": null,
   "metadata": {},
   "outputs": [],
   "source": [
    "# load functions from regression module\n",
    "from pycaret.regression import load_model, predict_model\n",
    "# load model in a variable\n",
    "\n",
    "#model = load_model(‘C:/Users/Leyre/Desktop/automl/best-model-diabetes’)\n",
    "model = load_model(‘C:/Users/Leyre/Desktop/automl/best-model-insu’)\n",
    "# predict charges\n",
    "dataset = predict_model(model, data=dataset)"
   ]
  },
  {
   "cell_type": "markdown",
   "metadata": {},
   "source": [
    "## Ejercicio"
   ]
  },
  {
   "cell_type": "markdown",
   "metadata": {},
   "source": [
    "Entrena un modelo básico de regresión con los datos de Boston y guardalo. Después carga el modelo en Power BI y realiza una predicción "
   ]
  },
  {
   "cell_type": "code",
   "execution_count": 1,
   "metadata": {},
   "outputs": [
    {
     "name": "stdout",
     "output_type": "stream",
     "text": [
      "Transformation Pipeline and Model Succesfully Saved\n"
     ]
    }
   ],
   "source": [
    "# import regression module\n",
    "from pycaret.regression import *\n",
    "\n",
    "from pycaret.datasets import get_data \n",
    "dataset = get_data('boston') \n",
    "\n",
    "# init setup\n",
    "reg1 = setup(data=dataset, target = 'medv', silent = True, html = False,session_id=4)\n",
    "# compare models\n",
    "best_model = compare_models()\n",
    "# finalize best model\n",
    "best = finalize_model(best_model)\n",
    "# save best model\n",
    "save_model(best, 'C:/Users/Leyre/Desktop/automl/best-model-boston')\n",
    "# return the performance metrics df\n",
    "dataset = pull()"
   ]
  },
  {
   "cell_type": "code",
   "execution_count": null,
   "metadata": {},
   "outputs": [],
   "source": []
  }
 ],
 "metadata": {
  "kernelspec": {
   "display_name": "Python 3",
   "language": "python",
   "name": "python3"
  },
  "language_info": {
   "codemirror_mode": {
    "name": "ipython",
    "version": 3
   },
   "file_extension": ".py",
   "mimetype": "text/x-python",
   "name": "python",
   "nbconvert_exporter": "python",
   "pygments_lexer": "ipython3",
   "version": "3.7.7"
  }
 },
 "nbformat": 4,
 "nbformat_minor": 4
}
